{
 "cells": [
  {
   "cell_type": "markdown",
   "metadata": {},
   "source": [
    "# Data Science Analisys of 2023"
   ]
  },
  {
   "cell_type": "markdown",
   "metadata": {},
   "source": [
    "library import"
   ]
  },
  {
   "cell_type": "code",
   "execution_count": 55,
   "metadata": {},
   "outputs": [],
   "source": [
    "import pandas as pd\n",
    "import numpy as np\n",
    "import matplotlib.pyplot as plt\n",
    "import sklearn as sk\n",
    "import geopandas as gpd\n",
    "import pycountry"
   ]
  },
  {
   "cell_type": "markdown",
   "metadata": {},
   "source": [
    "## Exploratory analysis of  dataset"
   ]
  },
  {
   "cell_type": "markdown",
   "metadata": {},
   "source": [
    "### Visualization of dataset:"
   ]
  },
  {
   "cell_type": "code",
   "execution_count": 4,
   "metadata": {},
   "outputs": [
    {
     "data": {
      "text/html": [
       "<div>\n",
       "<style scoped>\n",
       "    .dataframe tbody tr th:only-of-type {\n",
       "        vertical-align: middle;\n",
       "    }\n",
       "\n",
       "    .dataframe tbody tr th {\n",
       "        vertical-align: top;\n",
       "    }\n",
       "\n",
       "    .dataframe thead th {\n",
       "        text-align: right;\n",
       "    }\n",
       "</style>\n",
       "<table border=\"1\" class=\"dataframe\">\n",
       "  <thead>\n",
       "    <tr style=\"text-align: right;\">\n",
       "      <th></th>\n",
       "      <th>work_year</th>\n",
       "      <th>experience_level</th>\n",
       "      <th>employment_type</th>\n",
       "      <th>job_title</th>\n",
       "      <th>salary</th>\n",
       "      <th>salary_currency</th>\n",
       "      <th>salary_in_usd</th>\n",
       "      <th>employee_residence</th>\n",
       "      <th>remote_ratio</th>\n",
       "      <th>company_location</th>\n",
       "      <th>company_size</th>\n",
       "    </tr>\n",
       "  </thead>\n",
       "  <tbody>\n",
       "    <tr>\n",
       "      <th>0</th>\n",
       "      <td>2023</td>\n",
       "      <td>SE</td>\n",
       "      <td>FT</td>\n",
       "      <td>Principal Data Scientist</td>\n",
       "      <td>80000</td>\n",
       "      <td>EUR</td>\n",
       "      <td>85847</td>\n",
       "      <td>ES</td>\n",
       "      <td>100</td>\n",
       "      <td>ES</td>\n",
       "      <td>L</td>\n",
       "    </tr>\n",
       "    <tr>\n",
       "      <th>1</th>\n",
       "      <td>2023</td>\n",
       "      <td>MI</td>\n",
       "      <td>CT</td>\n",
       "      <td>ML Engineer</td>\n",
       "      <td>30000</td>\n",
       "      <td>USD</td>\n",
       "      <td>30000</td>\n",
       "      <td>US</td>\n",
       "      <td>100</td>\n",
       "      <td>US</td>\n",
       "      <td>S</td>\n",
       "    </tr>\n",
       "    <tr>\n",
       "      <th>2</th>\n",
       "      <td>2023</td>\n",
       "      <td>MI</td>\n",
       "      <td>CT</td>\n",
       "      <td>ML Engineer</td>\n",
       "      <td>25500</td>\n",
       "      <td>USD</td>\n",
       "      <td>25500</td>\n",
       "      <td>US</td>\n",
       "      <td>100</td>\n",
       "      <td>US</td>\n",
       "      <td>S</td>\n",
       "    </tr>\n",
       "    <tr>\n",
       "      <th>3</th>\n",
       "      <td>2023</td>\n",
       "      <td>SE</td>\n",
       "      <td>FT</td>\n",
       "      <td>Data Scientist</td>\n",
       "      <td>175000</td>\n",
       "      <td>USD</td>\n",
       "      <td>175000</td>\n",
       "      <td>CA</td>\n",
       "      <td>100</td>\n",
       "      <td>CA</td>\n",
       "      <td>M</td>\n",
       "    </tr>\n",
       "    <tr>\n",
       "      <th>4</th>\n",
       "      <td>2023</td>\n",
       "      <td>SE</td>\n",
       "      <td>FT</td>\n",
       "      <td>Data Scientist</td>\n",
       "      <td>120000</td>\n",
       "      <td>USD</td>\n",
       "      <td>120000</td>\n",
       "      <td>CA</td>\n",
       "      <td>100</td>\n",
       "      <td>CA</td>\n",
       "      <td>M</td>\n",
       "    </tr>\n",
       "    <tr>\n",
       "      <th>5</th>\n",
       "      <td>2023</td>\n",
       "      <td>SE</td>\n",
       "      <td>FT</td>\n",
       "      <td>Applied Scientist</td>\n",
       "      <td>222200</td>\n",
       "      <td>USD</td>\n",
       "      <td>222200</td>\n",
       "      <td>US</td>\n",
       "      <td>0</td>\n",
       "      <td>US</td>\n",
       "      <td>L</td>\n",
       "    </tr>\n",
       "    <tr>\n",
       "      <th>6</th>\n",
       "      <td>2023</td>\n",
       "      <td>SE</td>\n",
       "      <td>FT</td>\n",
       "      <td>Applied Scientist</td>\n",
       "      <td>136000</td>\n",
       "      <td>USD</td>\n",
       "      <td>136000</td>\n",
       "      <td>US</td>\n",
       "      <td>0</td>\n",
       "      <td>US</td>\n",
       "      <td>L</td>\n",
       "    </tr>\n",
       "    <tr>\n",
       "      <th>7</th>\n",
       "      <td>2023</td>\n",
       "      <td>SE</td>\n",
       "      <td>FT</td>\n",
       "      <td>Data Scientist</td>\n",
       "      <td>219000</td>\n",
       "      <td>USD</td>\n",
       "      <td>219000</td>\n",
       "      <td>CA</td>\n",
       "      <td>0</td>\n",
       "      <td>CA</td>\n",
       "      <td>M</td>\n",
       "    </tr>\n",
       "    <tr>\n",
       "      <th>8</th>\n",
       "      <td>2023</td>\n",
       "      <td>SE</td>\n",
       "      <td>FT</td>\n",
       "      <td>Data Scientist</td>\n",
       "      <td>141000</td>\n",
       "      <td>USD</td>\n",
       "      <td>141000</td>\n",
       "      <td>CA</td>\n",
       "      <td>0</td>\n",
       "      <td>CA</td>\n",
       "      <td>M</td>\n",
       "    </tr>\n",
       "    <tr>\n",
       "      <th>9</th>\n",
       "      <td>2023</td>\n",
       "      <td>SE</td>\n",
       "      <td>FT</td>\n",
       "      <td>Data Scientist</td>\n",
       "      <td>147100</td>\n",
       "      <td>USD</td>\n",
       "      <td>147100</td>\n",
       "      <td>US</td>\n",
       "      <td>0</td>\n",
       "      <td>US</td>\n",
       "      <td>M</td>\n",
       "    </tr>\n",
       "  </tbody>\n",
       "</table>\n",
       "</div>"
      ],
      "text/plain": [
       "   work_year experience_level employment_type                 job_title  \\\n",
       "0       2023               SE              FT  Principal Data Scientist   \n",
       "1       2023               MI              CT               ML Engineer   \n",
       "2       2023               MI              CT               ML Engineer   \n",
       "3       2023               SE              FT            Data Scientist   \n",
       "4       2023               SE              FT            Data Scientist   \n",
       "5       2023               SE              FT         Applied Scientist   \n",
       "6       2023               SE              FT         Applied Scientist   \n",
       "7       2023               SE              FT            Data Scientist   \n",
       "8       2023               SE              FT            Data Scientist   \n",
       "9       2023               SE              FT            Data Scientist   \n",
       "\n",
       "   salary salary_currency  salary_in_usd employee_residence  remote_ratio  \\\n",
       "0   80000             EUR          85847                 ES           100   \n",
       "1   30000             USD          30000                 US           100   \n",
       "2   25500             USD          25500                 US           100   \n",
       "3  175000             USD         175000                 CA           100   \n",
       "4  120000             USD         120000                 CA           100   \n",
       "5  222200             USD         222200                 US             0   \n",
       "6  136000             USD         136000                 US             0   \n",
       "7  219000             USD         219000                 CA             0   \n",
       "8  141000             USD         141000                 CA             0   \n",
       "9  147100             USD         147100                 US             0   \n",
       "\n",
       "  company_location company_size  \n",
       "0               ES            L  \n",
       "1               US            S  \n",
       "2               US            S  \n",
       "3               CA            M  \n",
       "4               CA            M  \n",
       "5               US            L  \n",
       "6               US            L  \n",
       "7               CA            M  \n",
       "8               CA            M  \n",
       "9               US            M  "
      ]
     },
     "execution_count": 4,
     "metadata": {},
     "output_type": "execute_result"
    }
   ],
   "source": [
    "Data = pd.read_csv('ds_salaries.csv')\n",
    "Data.head(10)"
   ]
  },
  {
   "cell_type": "markdown",
   "metadata": {},
   "source": [
    "### Column description:\n"
   ]
  },
  {
   "cell_type": "markdown",
   "metadata": {},
   "source": [
    "Data Science Job Salaries Dataset contains 11 columns, each are:\n",
    "\n",
    "1. **_work_year:_** The year the salary was paid.\n",
    "2. **experience_level**: The experience level in the job during the year\n",
    "3. **employment_type:** The type of employment for the role\n",
    "4. **job_title:** The role worked in during the year.\n",
    "5. **salary:** The total gross salary amount paid.\n",
    "6. **salary_currency:** The currency of the salary paid as an ISO 4217 currency code.\n",
    "7. **salaryinusd:** The salary in USD\n",
    "8. **employee_residence:** Employee's primary country of residence in during the work year as an ISO 3166 country code.\n",
    "9. **remote_ratio:** The overall amount of work done remotely\n",
    "10. **company_location:** The country of the employer's main office or contracting branch\n",
    "11. **company_size:** The median number of people that worked for the company during the year"
   ]
  },
  {
   "cell_type": "markdown",
   "metadata": {},
   "source": [
    "### Data types of datset:"
   ]
  },
  {
   "cell_type": "code",
   "execution_count": 5,
   "metadata": {},
   "outputs": [
    {
     "data": {
      "text/plain": [
       "work_year              int64\n",
       "experience_level      object\n",
       "employment_type       object\n",
       "job_title             object\n",
       "salary                 int64\n",
       "salary_currency       object\n",
       "salary_in_usd          int64\n",
       "employee_residence    object\n",
       "remote_ratio           int64\n",
       "company_location      object\n",
       "company_size          object\n",
       "dtype: object"
      ]
     },
     "execution_count": 5,
     "metadata": {},
     "output_type": "execute_result"
    }
   ],
   "source": [
    "Data.dtypes"
   ]
  },
  {
   "cell_type": "markdown",
   "metadata": {},
   "source": [
    "## Localization of the employee vs company location:\n",
    "We are going to use the library of geopandas to have an idea of location of empleoyees and companies."
   ]
  },
  {
   "cell_type": "code",
   "execution_count": 19,
   "metadata": {},
   "outputs": [],
   "source": [
    "# Crear un DataFrame desde value_counts\n",
    "Empl_Counts = Data['employee_residence'].value_counts().reset_index()\n",
    "Empl_Counts.columns = ['employee_residence', 'value']  # Renombrar columnas\n"
   ]
  },
  {
   "cell_type": "code",
   "execution_count": 13,
   "metadata": {},
   "outputs": [
    {
     "name": "stdout",
     "output_type": "stream",
     "text": [
      "company_location\n",
      "US    3040\n",
      "GB     172\n",
      "CA      87\n",
      "ES      77\n",
      "IN      58\n",
      "      ... \n",
      "CN       1\n",
      "NZ       1\n",
      "CL       1\n",
      "MD       1\n",
      "MT       1\n",
      "Name: count, Length: 72, dtype: int64\n"
     ]
    }
   ],
   "source": [
    "Comp_Counts=Data['company_location'].value_counts()\n",
    "print(Comp_Counts)"
   ]
  },
  {
   "cell_type": "code",
   "execution_count": 40,
   "metadata": {},
   "outputs": [
    {
     "name": "stdout",
     "output_type": "stream",
     "text": [
      "['FJ' 'TZ' 'EH' 'CA' 'US' 'KZ' 'UZ' 'PG' 'ID' 'AR' 'CL' 'CD' 'SO' 'KE'\n",
      " 'SD' 'TD' 'HT' 'DO' 'RU' 'BS' 'FK' '-99' 'GL' 'TF' 'TL' 'ZA' 'LS' 'MX'\n",
      " 'UY' 'BR' 'BO' 'PE' 'CO' 'PA' 'CR' 'NI' 'HN' 'SV' 'GT' 'BZ' 'VE' 'GY'\n",
      " 'SR' 'EC' 'PR' 'JM' 'CU' 'ZW' 'BW' 'NA' 'SN' 'ML' 'MR' 'BJ' 'NE' 'NG'\n",
      " 'CM' 'TG' 'GH' 'CI' 'GN' 'GW' 'LR' 'SL' 'BF' 'CF' 'CG' 'GA' 'GQ' 'ZM'\n",
      " 'MW' 'MZ' 'SZ' 'AO' 'BI' 'IL' 'LB' 'MG' 'PS' 'GM' 'TN' 'DZ' 'JO' 'AE'\n",
      " 'QA' 'KW' 'IQ' 'OM' 'VU' 'KH' 'TH' 'LA' 'MM' 'VN' 'KP' 'KR' 'MN' 'IN'\n",
      " 'BD' 'BT' 'NP' 'PK' 'AF' 'TJ' 'KG' 'TM' 'IR' 'SY' 'AM' 'SE' 'BY' 'UA'\n",
      " 'PL' 'AT' 'HU' 'MD' 'RO' 'LT' 'LV' 'EE' 'DE' 'BG' 'GR' 'TR' 'AL' 'HR'\n",
      " 'CH' 'LU' 'BE' 'NL' 'PT' 'ES' 'IE' 'NC' 'SB' 'NZ' 'AU' 'LK' 'CN' 'CN-TW'\n",
      " 'IT' 'DK' 'GB' 'IS' 'AZ' 'GE' 'PH' 'MY' 'BN' 'SI' 'FI' 'SK' 'CZ' 'ER'\n",
      " 'JP' 'PY' 'YE' 'SA' 'AQ' 'CY' 'MA' 'EG' 'LY' 'ET' 'DJ' 'UG' 'RW' 'BA'\n",
      " 'MK' 'RS' 'ME' 'TT' 'SS']\n",
      "['US' 'GB' 'CA' 'ES' 'IN' 'DE' 'FR' 'PT' 'BR' 'GR' 'NL' 'AU' 'MX' 'PK'\n",
      " 'IT' 'IE' 'JP' 'NG' 'AR' 'AT' 'PL' 'BE' 'TR' 'PR' 'SG' 'CH' 'RU' 'UA'\n",
      " 'SI' 'LV' 'CO' 'DK' 'HU' 'BO' 'VN' 'HR' 'RO' 'TH' 'AE' 'HK' 'CF' 'KE'\n",
      " 'FI' 'SE' 'GH' 'UZ' 'PH' 'CL' 'CZ' 'AS' 'LT' 'CY' 'IL' 'KW' 'MA' 'MK'\n",
      " 'BA' 'AM' 'CR' 'CN' 'IR' 'SK' 'ID' 'EG' 'DO' 'MY' 'EE' 'HN' 'TN' 'DZ'\n",
      " 'IQ' 'BG' 'JE' 'RS' 'NZ' 'MD' 'LU' 'MT']\n"
     ]
    }
   ],
   "source": [
    "url = \"https://raw.githubusercontent.com/nvkelso/natural-earth-vector/master/geojson/ne_110m_admin_0_countries.geojson\"\n",
    "world = gpd.read_file(url)\n",
    "world.columns\n",
    "print(world['ISO_A2'].unique())\n",
    "print(Empl_Counts['employee_residence'].unique())\n",
    "\n",
    "\n",
    "# Función para convertir ISO alpha-3 a alpha-2\n",
    "def convert_to_alpha2(alpha3):\n",
    "    try:\n",
    "        return pycountry.countries.get(alpha_3=alpha3).alpha_2\n",
    "    except AttributeError:\n",
    "        return None\n",
    "\n",
    "# Agregar columna con códigos ISO alpha-2 al GeoDataFrame\n",
    "world['ISO_A2'] = world['SOV_A3'].apply(convert_to_alpha2)\n"
   ]
  },
  {
   "cell_type": "code",
   "execution_count": 60,
   "metadata": {},
   "outputs": [
    {
     "data": {
      "image/png": "[encoded data removed]",
      "text/plain": [
       "<Figure size 1000x200 with 2 Axes>"
      ]
     },
     "metadata": {},
     "output_type": "display_data"
    }
   ],
   "source": [
    "# Combinar datos con geometrías del GeoDataFrame\n",
    "merged = world.merge(Empl_Counts, how='left', left_on='ISO_A2', right_on='employee_residence')\n",
    "\n",
    "# Graficar el mapa de calor\n",
    "\n",
    "ax = merged.plot(\n",
    "    column='value',       # Columna con los datos para el mapa de calor\n",
    "    cmap='Oranges',        # Paleta de colores\n",
    "    legend=True,          # Mostrar barra de colores\n",
    "    missing_kwds={\n",
    "        \"color\": \"lightgrey\",  # Color para países sin datos\n",
    "        \"label\": \"No data\"\n",
    "    },\n",
    "    figsize=(10,2)\n",
    ")\n",
    "\n",
    "\n",
    "# Personalizar el gráfico\n",
    "plt.title(\"Mapa de Calor Mundial - Residencia de Empleados\")\n",
    "plt.show()\n"
   ]
  }
 ],
 "metadata": {
  "kernelspec": {
   "display_name": "Python 3",
   "language": "python",
   "name": "python3"
  },
  "language_info": {
   "codemirror_mode": {
    "name": "ipython",
    "version": 3
   },
   "file_extension": ".py",
   "mimetype": "text/x-python",
   "name": "python",
   "nbconvert_exporter": "python",
   "pygments_lexer": "ipython3",
   "version": "3.11.2"
  }
 },
 "nbformat": 4,
 "nbformat_minor": 2
}
